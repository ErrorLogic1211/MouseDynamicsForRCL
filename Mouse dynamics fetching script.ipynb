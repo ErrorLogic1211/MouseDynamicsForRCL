{
 "cells": [
  {
   "cell_type": "code",
   "execution_count": 3,
   "id": "839d959b",
   "metadata": {},
   "outputs": [
    {
     "name": "stdout",
     "output_type": "stream",
     "text": [
      "   record timestamp  client timestamp button    state       x      y\n",
      "0          7.266991          7.266991   Left  pressed  1632.0  522.0\n"
     ]
    }
   ],
   "source": [
    "from pynput import mouse\n",
    "from pynput import keyboard\n",
    "import time\n",
    "import json\n",
    "import sys\n",
    "import pandas as pd\n",
    "start = time.time()\n",
    "storage = pd.DataFrame({'record timestamp':[],'client timestamp':[],'button':[],'state':[], 'x':[], 'y':[]})\n",
    "count = 0\n",
    "flag = 0\n",
    "flag2 = 0\n",
    "def on_press(key):\n",
    "    global flag\n",
    "    if key == keyboard.Key.esc:\n",
    "        flag = 1\n",
    "        storage.to_csv('E:\\\\helwan\\\\task1\\\\Mouse-Dynamics-Challenge-master\\\\test_files\\\\user7\\\\33.csv', index = False, encoding='utf-8')\n",
    "        return False\n",
    "\n",
    "def on_release(key):\n",
    "    blank = 1\n",
    "        \n",
    "\n",
    "def on_move(x, y):\n",
    "    global flag\n",
    "    global storage\n",
    "    if len(storage) >= 1:\n",
    "        if(flag2):\n",
    "            json_object = {'record timestamp':time.time()-start,'client timestamp':time.time()-start,'button':'NoButton','state':'Drag', 'x':x, 'y':y}\n",
    "            storage = storage.append(json_object,ignore_index=True)\n",
    "        else:\n",
    "            json_object ={'record timestamp':time.time()-start,'client timestamp':time.time()-start,'button':'NoButton','state':'Move', 'x':x, 'y':y}\n",
    "            storage = storage.append(json_object,ignore_index=True)\n",
    "        if  storage.empty != True:\n",
    "            if flag == 1:\n",
    "                return False\n",
    "\n",
    "def on_click(x, y, button, pressed):\n",
    "    global flag\n",
    "    global flag2\n",
    "    global storage\n",
    "    json_object = {'record timestamp':time.time()-start,'client timestamp':time.time()-start,'button':'Left','state':'pressed' if pressed else 'released', 'x':x, 'y':y}\n",
    "    storage = storage.append(json_object,ignore_index=True)\n",
    "    if(pressed):\n",
    "        flag2 =1\n",
    "    else:\n",
    "        flag2= 0\n",
    "    if storage.empty != True:\n",
    "        if flag == 1:\n",
    "            return False\n",
    "\n",
    "\n",
    "# Collect events from keyboard until esc\n",
    "# Collect events from mouse until scroll\n",
    "keyboard_listener = keyboard.Listener(\n",
    "    on_press=on_press,\n",
    "    on_release=on_release)\n",
    "mouse_listener = mouse.Listener(\n",
    "        on_click=on_click,\n",
    "        on_move=on_move)\n",
    "\n",
    "keyboard_listener.start()\n",
    "mouse_listener.start()\n",
    "keyboard_listener.join()\n",
    "mouse_listener.join()\n",
    "print(storage)"
   ]
  },
  {
   "cell_type": "code",
   "execution_count": null,
   "id": "5a68a980",
   "metadata": {},
   "outputs": [],
   "source": []
  }
 ],
 "metadata": {
  "kernelspec": {
   "display_name": "Python 3 (ipykernel)",
   "language": "python",
   "name": "python3"
  },
  "language_info": {
   "codemirror_mode": {
    "name": "ipython",
    "version": 3
   },
   "file_extension": ".py",
   "mimetype": "text/x-python",
   "name": "python",
   "nbconvert_exporter": "python",
   "pygments_lexer": "ipython3",
   "version": "3.7.0"
  }
 },
 "nbformat": 4,
 "nbformat_minor": 5
}
